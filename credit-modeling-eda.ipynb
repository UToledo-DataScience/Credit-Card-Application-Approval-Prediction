{
 "cells": [
  {
   "cell_type": "markdown",
   "metadata": {
    "papermill": {
     "duration": 0.025628,
     "end_time": "2020-12-31T23:41:30.042756",
     "exception": false,
     "start_time": "2020-12-31T23:41:30.017128",
     "status": "completed"
    },
    "tags": []
   },
   "source": [
    "This notebooks contains EDA of the credit-card-approval-prediction datasets for the following notebook: \n",
    "\n",
    "https://www.kaggle.com/hungndo/credit-modeling-models"
   ]
  },
  {
   "cell_type": "code",
   "execution_count": 1,
   "metadata": {
    "execution": {
     "iopub.execute_input": "2020-12-31T23:41:30.096685Z",
     "iopub.status.busy": "2020-12-31T23:41:30.096010Z",
     "iopub.status.idle": "2020-12-31T23:41:30.967714Z",
     "shell.execute_reply": "2020-12-31T23:41:30.967055Z"
    },
    "papermill": {
     "duration": 0.900983,
     "end_time": "2020-12-31T23:41:30.967831",
     "exception": false,
     "start_time": "2020-12-31T23:41:30.066848",
     "status": "completed"
    },
    "tags": []
   },
   "outputs": [],
   "source": [
    "import numpy as np \n",
    "import pandas as pd\n",
    "import seaborn as sns\n",
    "import matplotlib.pyplot as plt"
   ]
  },
  {
   "cell_type": "code",
   "execution_count": 2,
   "metadata": {
    "_cell_guid": "79c7e3d0-c299-4dcb-8224-4455121ee9b0",
    "_uuid": "d629ff2d2480ee46fbb7e2d37f6b5fab8052498a",
    "execution": {
     "iopub.execute_input": "2020-12-31T23:41:31.025316Z",
     "iopub.status.busy": "2020-12-31T23:41:31.024732Z",
     "iopub.status.idle": "2020-12-31T23:41:33.072465Z",
     "shell.execute_reply": "2020-12-31T23:41:33.071020Z"
    },
    "papermill": {
     "duration": 2.080575,
     "end_time": "2020-12-31T23:41:33.072578",
     "exception": false,
     "start_time": "2020-12-31T23:41:30.992003",
     "status": "completed"
    },
    "tags": []
   },
   "outputs": [],
   "source": [
    "application = pd.read_csv('/kaggle/input/credit-card-approval-prediction/application_record.csv')\n",
    "credit = pd.read_csv('/kaggle/input/credit-card-approval-prediction/credit_record.csv')"
   ]
  },
  {
   "cell_type": "code",
   "execution_count": 3,
   "metadata": {
    "execution": {
     "iopub.execute_input": "2020-12-31T23:41:33.234722Z",
     "iopub.status.busy": "2020-12-31T23:41:33.234000Z",
     "iopub.status.idle": "2020-12-31T23:41:33.238185Z",
     "shell.execute_reply": "2020-12-31T23:41:33.237697Z"
    },
    "papermill": {
     "duration": 0.141603,
     "end_time": "2020-12-31T23:41:33.238302",
     "exception": false,
     "start_time": "2020-12-31T23:41:33.096699",
     "status": "completed"
    },
    "tags": []
   },
   "outputs": [
    {
     "data": {
      "text/plain": [
       "438510"
      ]
     },
     "execution_count": 3,
     "metadata": {},
     "output_type": "execute_result"
    }
   ],
   "source": [
    "len(set(application['ID'])) #this is how many people are unique in application 438510"
   ]
  },
  {
   "cell_type": "code",
   "execution_count": 4,
   "metadata": {
    "execution": {
     "iopub.execute_input": "2020-12-31T23:41:33.459783Z",
     "iopub.status.busy": "2020-12-31T23:41:33.459043Z",
     "iopub.status.idle": "2020-12-31T23:41:33.463366Z",
     "shell.execute_reply": "2020-12-31T23:41:33.462807Z"
    },
    "papermill": {
     "duration": 0.198694,
     "end_time": "2020-12-31T23:41:33.463475",
     "exception": false,
     "start_time": "2020-12-31T23:41:33.264781",
     "status": "completed"
    },
    "tags": []
   },
   "outputs": [
    {
     "data": {
      "text/plain": [
       "45985"
      ]
     },
     "execution_count": 4,
     "metadata": {},
     "output_type": "execute_result"
    }
   ],
   "source": [
    "len(set(credit['ID'])) #unique in credit "
   ]
  },
  {
   "cell_type": "code",
   "execution_count": 5,
   "metadata": {
    "execution": {
     "iopub.execute_input": "2020-12-31T23:41:33.784737Z",
     "iopub.status.busy": "2020-12-31T23:41:33.783402Z",
     "iopub.status.idle": "2020-12-31T23:41:33.789797Z",
     "shell.execute_reply": "2020-12-31T23:41:33.789359Z"
    },
    "papermill": {
     "duration": 0.302024,
     "end_time": "2020-12-31T23:41:33.789897",
     "exception": false,
     "start_time": "2020-12-31T23:41:33.487873",
     "status": "completed"
    },
    "tags": []
   },
   "outputs": [
    {
     "data": {
      "text/plain": [
       "36457"
      ]
     },
     "execution_count": 5,
     "metadata": {},
     "output_type": "execute_result"
    }
   ],
   "source": [
    "len(set(application['ID']).intersection(set(credit['ID']))) # how many IDs do two tables share"
   ]
  },
  {
   "cell_type": "code",
   "execution_count": 6,
   "metadata": {
    "execution": {
     "iopub.execute_input": "2020-12-31T23:41:34.111039Z",
     "iopub.status.busy": "2020-12-31T23:41:34.110363Z",
     "iopub.status.idle": "2020-12-31T23:41:34.208243Z",
     "shell.execute_reply": "2020-12-31T23:41:34.207294Z"
    },
    "papermill": {
     "duration": 0.393121,
     "end_time": "2020-12-31T23:41:34.208370",
     "exception": false,
     "start_time": "2020-12-31T23:41:33.815249",
     "status": "completed"
    },
    "tags": []
   },
   "outputs": [],
   "source": [
    "# only analyze in the intersection cases between 2 dataset\n",
    "ids = set(application['ID']).intersection(set(credit['ID']))\n",
    "application = application[application['ID'].isin(ids)]\n",
    "credit = credit[credit['ID'].isin(ids)]"
   ]
  },
  {
   "cell_type": "code",
   "execution_count": 7,
   "metadata": {
    "execution": {
     "iopub.execute_input": "2020-12-31T23:41:34.276636Z",
     "iopub.status.busy": "2020-12-31T23:41:34.275623Z",
     "iopub.status.idle": "2020-12-31T23:41:34.278267Z",
     "shell.execute_reply": "2020-12-31T23:41:34.279040Z"
    },
    "papermill": {
     "duration": 0.044923,
     "end_time": "2020-12-31T23:41:34.279209",
     "exception": false,
     "start_time": "2020-12-31T23:41:34.234286",
     "status": "completed"
    },
    "tags": []
   },
   "outputs": [],
   "source": [
    "def barplot(label,value,title='',normalize=False):\n",
    "    fig = plt.figure(figsize=(len(value)*2,5))\n",
    "    ax = fig.add_subplot()\n",
    "    if normalize:\n",
    "        ax.bar(label, value/value.sum()*100)\n",
    "    else:\n",
    "        ax.bar(label,value)\n",
    "    ax.set_title(title)\n",
    "\n",
    "def histogram(value, bins=10, title='',normalize=False):\n",
    "    fig = plt.figure(figsize=(10,5))\n",
    "    ax = fig.add_subplot()\n",
    "    \n",
    "    ax.hist(value, bins=bins)\n",
    "    ax.set_title(title)\n"
   ]
  },
  {
   "cell_type": "markdown",
   "metadata": {
    "papermill": {
     "duration": 0.043299,
     "end_time": "2020-12-31T23:41:34.355330",
     "exception": false,
     "start_time": "2020-12-31T23:41:34.312031",
     "status": "completed"
    },
    "tags": []
   },
   "source": [
    "# **APPLICATION RECORD**"
   ]
  },
  {
   "cell_type": "code",
   "execution_count": 8,
   "metadata": {
    "execution": {
     "iopub.execute_input": "2020-12-31T23:41:34.458407Z",
     "iopub.status.busy": "2020-12-31T23:41:34.430170Z",
     "iopub.status.idle": "2020-12-31T23:41:34.471853Z",
     "shell.execute_reply": "2020-12-31T23:41:34.472729Z"
    },
    "papermill": {
     "duration": 0.086395,
     "end_time": "2020-12-31T23:41:34.472943",
     "exception": false,
     "start_time": "2020-12-31T23:41:34.386548",
     "status": "completed"
    },
    "tags": []
   },
   "outputs": [
    {
     "name": "stdout",
     "output_type": "stream",
     "text": [
      "<class 'pandas.core.frame.DataFrame'>\n",
      "Int64Index: 36457 entries, 0 to 434812\n",
      "Data columns (total 18 columns):\n",
      " #   Column               Non-Null Count  Dtype  \n",
      "---  ------               --------------  -----  \n",
      " 0   ID                   36457 non-null  int64  \n",
      " 1   CODE_GENDER          36457 non-null  object \n",
      " 2   FLAG_OWN_CAR         36457 non-null  object \n",
      " 3   FLAG_OWN_REALTY      36457 non-null  object \n",
      " 4   CNT_CHILDREN         36457 non-null  int64  \n",
      " 5   AMT_INCOME_TOTAL     36457 non-null  float64\n",
      " 6   NAME_INCOME_TYPE     36457 non-null  object \n",
      " 7   NAME_EDUCATION_TYPE  36457 non-null  object \n",
      " 8   NAME_FAMILY_STATUS   36457 non-null  object \n",
      " 9   NAME_HOUSING_TYPE    36457 non-null  object \n",
      " 10  DAYS_BIRTH           36457 non-null  int64  \n",
      " 11  DAYS_EMPLOYED        36457 non-null  int64  \n",
      " 12  FLAG_MOBIL           36457 non-null  int64  \n",
      " 13  FLAG_WORK_PHONE      36457 non-null  int64  \n",
      " 14  FLAG_PHONE           36457 non-null  int64  \n",
      " 15  FLAG_EMAIL           36457 non-null  int64  \n",
      " 16  OCCUPATION_TYPE      25134 non-null  object \n",
      " 17  CNT_FAM_MEMBERS      36457 non-null  float64\n",
      "dtypes: float64(2), int64(8), object(8)\n",
      "memory usage: 5.3+ MB\n"
     ]
    }
   ],
   "source": [
    "application.info()"
   ]
  },
  {
   "cell_type": "markdown",
   "metadata": {
    "papermill": {
     "duration": 0.027622,
     "end_time": "2020-12-31T23:41:34.528424",
     "exception": false,
     "start_time": "2020-12-31T23:41:34.500802",
     "status": "completed"
    },
    "tags": []
   },
   "source": [
    "! Need to handle null values for OCCUPATION_TYPE"
   ]
  },
  {
   "cell_type": "markdown",
   "metadata": {
    "papermill": {
     "duration": 0.027447,
     "end_time": "2020-12-31T23:41:34.583829",
     "exception": false,
     "start_time": "2020-12-31T23:41:34.556382",
     "status": "completed"
    },
    "tags": []
   },
   "source": [
    "**Categorical**"
   ]
  },
  {
   "cell_type": "code",
   "execution_count": 9,
   "metadata": {
    "execution": {
     "iopub.execute_input": "2020-12-31T23:41:34.653626Z",
     "iopub.status.busy": "2020-12-31T23:41:34.653046Z",
     "iopub.status.idle": "2020-12-31T23:41:34.792852Z",
     "shell.execute_reply": "2020-12-31T23:41:34.793282Z"
    },
    "papermill": {
     "duration": 0.18143,
     "end_time": "2020-12-31T23:41:34.793415",
     "exception": false,
     "start_time": "2020-12-31T23:41:34.611985",
     "status": "completed"
    },
    "tags": []
   },
   "outputs": [
    {
     "data": {
      "image/png": "[encoded data removed]",
      "text/plain": [
       "<Figure size 288x360 with 1 Axes>"
      ]
     },
     "metadata": {
      "needs_background": "light"
     },
     "output_type": "display_data"
    }
   ],
   "source": [
    "x = application['CODE_GENDER'].value_counts()\n",
    "barplot(x.index,x,'Male/Female')"
   ]
  },
  {
   "cell_type": "code",
   "execution_count": 10,
   "metadata": {
    "execution": {
     "iopub.execute_input": "2020-12-31T23:41:34.851647Z",
     "iopub.status.busy": "2020-12-31T23:41:34.851090Z",
     "iopub.status.idle": "2020-12-31T23:41:34.950070Z",
     "shell.execute_reply": "2020-12-31T23:41:34.950544Z"
    },
    "papermill": {
     "duration": 0.129348,
     "end_time": "2020-12-31T23:41:34.950692",
     "exception": false,
     "start_time": "2020-12-31T23:41:34.821344",
     "status": "completed"
    },
    "tags": []
   },
   "outputs": [
    {
     "data": {
      "image/png": "[encoded data removed]",
      "text/plain": [
       "<Figure size 288x360 with 1 Axes>"
      ]
     },
     "metadata": {
      "needs_background": "light"
     },
     "output_type": "display_data"
    }
   ],
   "source": [
    "x = application['FLAG_OWN_CAR'].value_counts()\n",
    "barplot(x.index,x, 'Own car')"
   ]
  },
  {
   "cell_type": "code",
   "execution_count": 11,
   "metadata": {
    "execution": {
     "iopub.execute_input": "2020-12-31T23:41:35.010570Z",
     "iopub.status.busy": "2020-12-31T23:41:35.009965Z",
     "iopub.status.idle": "2020-12-31T23:41:35.117388Z",
     "shell.execute_reply": "2020-12-31T23:41:35.117918Z"
    },
    "papermill": {
     "duration": 0.139065,
     "end_time": "2020-12-31T23:41:35.118111",
     "exception": false,
     "start_time": "2020-12-31T23:41:34.979046",
     "status": "completed"
    },
    "tags": []
   },
   "outputs": [
    {
     "data": {
      "image/png": "[encoded data removed]",
      "text/plain": [
       "<Figure size 288x360 with 1 Axes>"
      ]
     },
     "metadata": {
      "needs_background": "light"
     },
     "output_type": "display_data"
    }
   ],
   "source": [
    "x = application['FLAG_OWN_REALTY'].value_counts()\n",
    "barplot(x.index,x,'Own realty')"
   ]
  },
  {
   "cell_type": "code",
   "execution_count": 12,
   "metadata": {
    "execution": {
     "iopub.execute_input": "2020-12-31T23:41:35.200758Z",
     "iopub.status.busy": "2020-12-31T23:41:35.199904Z",
     "iopub.status.idle": "2020-12-31T23:41:35.311425Z",
     "shell.execute_reply": "2020-12-31T23:41:35.311837Z"
    },
    "papermill": {
     "duration": 0.164423,
     "end_time": "2020-12-31T23:41:35.311966",
     "exception": false,
     "start_time": "2020-12-31T23:41:35.147543",
     "status": "completed"
    },
    "tags": []
   },
   "outputs": [
    {
     "data": {
      "image/png": "[encoded data removed]",
      "text/plain": [
       "<Figure size 720x360 with 1 Axes>"
      ]
     },
     "metadata": {
      "needs_background": "light"
     },
     "output_type": "display_data"
    }
   ],
   "source": [
    "x = application['NAME_INCOME_TYPE'].value_counts()\n",
    "barplot(x.index,x,'income type')"
   ]
  },
  {
   "cell_type": "code",
   "execution_count": 13,
   "metadata": {
    "execution": {
     "iopub.execute_input": "2020-12-31T23:41:35.389717Z",
     "iopub.status.busy": "2020-12-31T23:41:35.388905Z",
     "iopub.status.idle": "2020-12-31T23:41:35.509735Z",
     "shell.execute_reply": "2020-12-31T23:41:35.509056Z"
    },
    "papermill": {
     "duration": 0.168113,
     "end_time": "2020-12-31T23:41:35.509845",
     "exception": false,
     "start_time": "2020-12-31T23:41:35.341732",
     "status": "completed"
    },
    "tags": []
   },
   "outputs": [
    {
     "data": {
      "image/png": "[encoded data removed]",
      "text/plain": [
       "<Figure size 720x360 with 1 Axes>"
      ]
     },
     "metadata": {
      "needs_background": "light"
     },
     "output_type": "display_data"
    }
   ],
   "source": [
    "x = application['NAME_EDUCATION_TYPE'].value_counts()\n",
    "barplot(x.index,x,'education type')"
   ]
  },
  {
   "cell_type": "code",
   "execution_count": 14,
   "metadata": {
    "execution": {
     "iopub.execute_input": "2020-12-31T23:41:35.589632Z",
     "iopub.status.busy": "2020-12-31T23:41:35.588721Z",
     "iopub.status.idle": "2020-12-31T23:41:35.707444Z",
     "shell.execute_reply": "2020-12-31T23:41:35.706863Z"
    },
    "papermill": {
     "duration": 0.167634,
     "end_time": "2020-12-31T23:41:35.707570",
     "exception": false,
     "start_time": "2020-12-31T23:41:35.539936",
     "status": "completed"
    },
    "tags": []
   },
   "outputs": [
    {
     "data": {
      "image/png": "[encoded data removed]",
      "text/plain": [
       "<Figure size 720x360 with 1 Axes>"
      ]
     },
     "metadata": {
      "needs_background": "light"
     },
     "output_type": "display_data"
    }
   ],
   "source": [
    "x = application['NAME_FAMILY_STATUS'].value_counts()\n",
    "barplot(x.index,x,'family status')"
   ]
  },
  {
   "cell_type": "code",
   "execution_count": 15,
   "metadata": {
    "execution": {
     "iopub.execute_input": "2020-12-31T23:41:35.791413Z",
     "iopub.status.busy": "2020-12-31T23:41:35.790499Z",
     "iopub.status.idle": "2020-12-31T23:41:35.914701Z",
     "shell.execute_reply": "2020-12-31T23:41:35.915298Z"
    },
    "papermill": {
     "duration": 0.176549,
     "end_time": "2020-12-31T23:41:35.915451",
     "exception": false,
     "start_time": "2020-12-31T23:41:35.738902",
     "status": "completed"
    },
    "tags": []
   },
   "outputs": [
    {
     "data": {
      "image/png": "[encoded data removed]",
      "text/plain": [
       "<Figure size 864x360 with 1 Axes>"
      ]
     },
     "metadata": {
      "needs_background": "light"
     },
     "output_type": "display_data"
    }
   ],
   "source": [
    "x = application['NAME_HOUSING_TYPE'].value_counts()\n",
    "barplot(x.index,x,'housing type')"
   ]
  },
  {
   "cell_type": "code",
   "execution_count": 16,
   "metadata": {
    "execution": {
     "iopub.execute_input": "2020-12-31T23:41:35.984503Z",
     "iopub.status.busy": "2020-12-31T23:41:35.983551Z",
     "iopub.status.idle": "2020-12-31T23:41:35.998723Z",
     "shell.execute_reply": "2020-12-31T23:41:35.998240Z"
    },
    "papermill": {
     "duration": 0.050958,
     "end_time": "2020-12-31T23:41:35.998823",
     "exception": false,
     "start_time": "2020-12-31T23:41:35.947865",
     "status": "completed"
    },
    "tags": []
   },
   "outputs": [
    {
     "name": "stdout",
     "output_type": "stream",
     "text": [
      "<class 'pandas.core.frame.DataFrame'>\n",
      "Int64Index: 36457 entries, 0 to 434812\n",
      "Data columns (total 1 columns):\n",
      " #   Column           Non-Null Count  Dtype \n",
      "---  ------           --------------  ----- \n",
      " 0   OCCUPATION_TYPE  25134 non-null  object\n",
      "dtypes: object(1)\n",
      "memory usage: 569.6+ KB\n"
     ]
    }
   ],
   "source": [
    "pd.DataFrame(application['OCCUPATION_TYPE']).info()"
   ]
  },
  {
   "cell_type": "markdown",
   "metadata": {
    "papermill": {
     "duration": 0.03303,
     "end_time": "2020-12-31T23:41:36.065434",
     "exception": false,
     "start_time": "2020-12-31T23:41:36.032404",
     "status": "completed"
    },
    "tags": []
   },
   "source": [
    "There are null values for OCCUPATION_TYPE"
   ]
  },
  {
   "cell_type": "code",
   "execution_count": 17,
   "metadata": {
    "execution": {
     "iopub.execute_input": "2020-12-31T23:41:36.146681Z",
     "iopub.status.busy": "2020-12-31T23:41:36.142596Z",
     "iopub.status.idle": "2020-12-31T23:41:36.427232Z",
     "shell.execute_reply": "2020-12-31T23:41:36.426627Z"
    },
    "papermill": {
     "duration": 0.329171,
     "end_time": "2020-12-31T23:41:36.427358",
     "exception": false,
     "start_time": "2020-12-31T23:41:36.098187",
     "status": "completed"
    },
    "tags": []
   },
   "outputs": [
    {
     "data": {
      "image/png": "[encoded data removed]",
      "text/plain": [
       "<Figure size 2592x360 with 1 Axes>"
      ]
     },
     "metadata": {
      "needs_background": "light"
     },
     "output_type": "display_data"
    }
   ],
   "source": [
    "x = application['OCCUPATION_TYPE'].value_counts()\n",
    "barplot(x.index,x,'occupation type')"
   ]
  },
  {
   "cell_type": "markdown",
   "metadata": {
    "papermill": {
     "duration": 0.032165,
     "end_time": "2020-12-31T23:41:36.491903",
     "exception": false,
     "start_time": "2020-12-31T23:41:36.459738",
     "status": "completed"
    },
    "tags": []
   },
   "source": [
    "Although the last few values are very small compared to the others, they may add some value to the model and not cause any overfit. However, when we convert these into dummy vairables, there'll be 18 more columns, which can be expensive. Therefore, combine the last few values into one generic value (\"others\") can be one of our options. "
   ]
  },
  {
   "cell_type": "code",
   "execution_count": 18,
   "metadata": {
    "execution": {
     "iopub.execute_input": "2020-12-31T23:41:36.562355Z",
     "iopub.status.busy": "2020-12-31T23:41:36.561723Z",
     "iopub.status.idle": "2020-12-31T23:41:36.567864Z",
     "shell.execute_reply": "2020-12-31T23:41:36.568457Z"
    },
    "papermill": {
     "duration": 0.043531,
     "end_time": "2020-12-31T23:41:36.568609",
     "exception": false,
     "start_time": "2020-12-31T23:41:36.525078",
     "status": "completed"
    },
    "tags": []
   },
   "outputs": [
    {
     "data": {
      "text/plain": [
       "1    36457\n",
       "Name: FLAG_MOBIL, dtype: int64"
      ]
     },
     "execution_count": 18,
     "metadata": {},
     "output_type": "execute_result"
    }
   ],
   "source": [
    "application['FLAG_MOBIL'].value_counts()\n",
    "\n",
    "# => everyone owns a mobile phone. Therefore, this column won't add any value and can be dropped."
   ]
  },
  {
   "cell_type": "code",
   "execution_count": 19,
   "metadata": {
    "execution": {
     "iopub.execute_input": "2020-12-31T23:41:36.641134Z",
     "iopub.status.busy": "2020-12-31T23:41:36.640528Z",
     "iopub.status.idle": "2020-12-31T23:41:36.758793Z",
     "shell.execute_reply": "2020-12-31T23:41:36.759221Z"
    },
    "papermill": {
     "duration": 0.155975,
     "end_time": "2020-12-31T23:41:36.759374",
     "exception": false,
     "start_time": "2020-12-31T23:41:36.603399",
     "status": "completed"
    },
    "tags": []
   },
   "outputs": [
    {
     "data": {
      "image/png": "[encoded data removed]",
      "text/plain": [
       "<Figure size 288x360 with 1 Axes>"
      ]
     },
     "metadata": {
      "needs_background": "light"
     },
     "output_type": "display_data"
    }
   ],
   "source": [
    "x = application['FLAG_WORK_PHONE'].value_counts()\n",
    "barplot(x.index,x, title='FLAG WORK PHONE')"
   ]
  },
  {
   "cell_type": "code",
   "execution_count": 20,
   "metadata": {
    "execution": {
     "iopub.execute_input": "2020-12-31T23:41:36.831049Z",
     "iopub.status.busy": "2020-12-31T23:41:36.830487Z",
     "iopub.status.idle": "2020-12-31T23:41:36.949806Z",
     "shell.execute_reply": "2020-12-31T23:41:36.950218Z"
    },
    "papermill": {
     "duration": 0.157162,
     "end_time": "2020-12-31T23:41:36.950365",
     "exception": false,
     "start_time": "2020-12-31T23:41:36.793203",
     "status": "completed"
    },
    "tags": []
   },
   "outputs": [
    {
     "data": {
      "image/png": "[encoded data removed]",
      "text/plain": [
       "<Figure size 288x360 with 1 Axes>"
      ]
     },
     "metadata": {
      "needs_background": "light"
     },
     "output_type": "display_data"
    }
   ],
   "source": [
    "x = application['FLAG_PHONE'].value_counts()\n",
    "barplot(x.index,x, title='FLAG PHONE')"
   ]
  },
  {
   "cell_type": "code",
   "execution_count": 21,
   "metadata": {
    "execution": {
     "iopub.execute_input": "2020-12-31T23:41:37.024296Z",
     "iopub.status.busy": "2020-12-31T23:41:37.023709Z",
     "iopub.status.idle": "2020-12-31T23:41:37.153824Z",
     "shell.execute_reply": "2020-12-31T23:41:37.154363Z"
    },
    "papermill": {
     "duration": 0.168662,
     "end_time": "2020-12-31T23:41:37.154497",
     "exception": false,
     "start_time": "2020-12-31T23:41:36.985835",
     "status": "completed"
    },
    "tags": []
   },
   "outputs": [
    {
     "data": {
      "image/png": "[encoded data removed]",
      "text/plain": [
       "<Figure size 288x360 with 1 Axes>"
      ]
     },
     "metadata": {
      "needs_background": "light"
     },
     "output_type": "display_data"
    }
   ],
   "source": [
    "x = application['FLAG_EMAIL'].value_counts()\n",
    "barplot(x.index, x, title='FLAG EMAIL')"
   ]
  },
  {
   "cell_type": "markdown",
   "metadata": {
    "papermill": {
     "duration": 0.03576,
     "end_time": "2020-12-31T23:41:37.226652",
     "exception": false,
     "start_time": "2020-12-31T23:41:37.190892",
     "status": "completed"
    },
    "tags": []
   },
   "source": [
    "**Quantitative**"
   ]
  },
  {
   "cell_type": "code",
   "execution_count": 22,
   "metadata": {
    "execution": {
     "iopub.execute_input": "2020-12-31T23:41:37.302786Z",
     "iopub.status.busy": "2020-12-31T23:41:37.302139Z",
     "iopub.status.idle": "2020-12-31T23:41:37.487072Z",
     "shell.execute_reply": "2020-12-31T23:41:37.487634Z"
    },
    "papermill": {
     "duration": 0.224855,
     "end_time": "2020-12-31T23:41:37.487771",
     "exception": false,
     "start_time": "2020-12-31T23:41:37.262916",
     "status": "completed"
    },
    "tags": []
   },
   "outputs": [
    {
     "data": {
      "image/png": "[encoded data removed]",
      "text/plain": [
       "<Figure size 720x360 with 1 Axes>"
      ]
     },
     "metadata": {
      "needs_background": "light"
     },
     "output_type": "display_data"
    }
   ],
   "source": [
    "histogram(application['CNT_CHILDREN'], bins=20, title='Count Children')"
   ]
  },
  {
   "cell_type": "code",
   "execution_count": 23,
   "metadata": {
    "execution": {
     "iopub.execute_input": "2020-12-31T23:41:37.567540Z",
     "iopub.status.busy": "2020-12-31T23:41:37.566592Z",
     "iopub.status.idle": "2020-12-31T23:41:37.758203Z",
     "shell.execute_reply": "2020-12-31T23:41:37.758718Z"
    },
    "papermill": {
     "duration": 0.232696,
     "end_time": "2020-12-31T23:41:37.758850",
     "exception": false,
     "start_time": "2020-12-31T23:41:37.526154",
     "status": "completed"
    },
    "tags": []
   },
   "outputs": [
    {
     "data": {
      "image/png": "[encoded data removed]",
      "text/plain": [
       "<Figure size 720x360 with 1 Axes>"
      ]
     },
     "metadata": {
      "needs_background": "light"
     },
     "output_type": "display_data"
    }
   ],
   "source": [
    "histogram(application['CNT_FAM_MEMBERS'], bins=20, title='CNT_FAME_MEMBERS')"
   ]
  },
  {
   "cell_type": "code",
   "execution_count": 24,
   "metadata": {
    "execution": {
     "iopub.execute_input": "2020-12-31T23:41:37.840614Z",
     "iopub.status.busy": "2020-12-31T23:41:37.839695Z",
     "iopub.status.idle": "2020-12-31T23:41:38.494564Z",
     "shell.execute_reply": "2020-12-31T23:41:38.495003Z"
    },
    "papermill": {
     "duration": 0.698004,
     "end_time": "2020-12-31T23:41:38.495142",
     "exception": false,
     "start_time": "2020-12-31T23:41:37.797138",
     "status": "completed"
    },
    "tags": []
   },
   "outputs": [
    {
     "data": {
      "image/png": "[encoded data removed]",
      "text/plain": [
       "<Figure size 720x360 with 1 Axes>"
      ]
     },
     "metadata": {
      "needs_background": "light"
     },
     "output_type": "display_data"
    },
    {
     "data": {
      "image/png": "[encoded data removed]",
      "text/plain": [
       "<Figure size 720x360 with 1 Axes>"
      ]
     },
     "metadata": {
      "needs_background": "light"
     },
     "output_type": "display_data"
    }
   ],
   "source": [
    "histogram(application['DAYS_BIRTH'],bins=100, title='DAY BIRTH')\n",
    "\n",
    "# converting days_birth to age for easier intepretation, the plot is flipped horizontally due to days_birth is negative, while age is positive\n",
    "histogram(-application['DAYS_BIRTH']/365, bins=100, title='AGE')"
   ]
  },
  {
   "cell_type": "markdown",
   "metadata": {
    "papermill": {
     "duration": 0.040577,
     "end_time": "2020-12-31T23:41:38.576302",
     "exception": false,
     "start_time": "2020-12-31T23:41:38.535725",
     "status": "completed"
    },
    "tags": []
   },
   "source": [
    "The distribution seems normal"
   ]
  },
  {
   "cell_type": "code",
   "execution_count": 25,
   "metadata": {
    "execution": {
     "iopub.execute_input": "2020-12-31T23:41:38.670908Z",
     "iopub.status.busy": "2020-12-31T23:41:38.669772Z",
     "iopub.status.idle": "2020-12-31T23:41:38.998571Z",
     "shell.execute_reply": "2020-12-31T23:41:38.997947Z"
    },
    "papermill": {
     "duration": 0.381143,
     "end_time": "2020-12-31T23:41:38.998679",
     "exception": false,
     "start_time": "2020-12-31T23:41:38.617536",
     "status": "completed"
    },
    "tags": []
   },
   "outputs": [
    {
     "data": {
      "image/png": "[encoded data removed]",
      "text/plain": [
       "<Figure size 720x360 with 1 Axes>"
      ]
     },
     "metadata": {
      "needs_background": "light"
     },
     "output_type": "display_data"
    }
   ],
   "source": [
    "histogram(application['AMT_INCOME_TOTAL'],bins=100, title='AMT_INCOME_TOTAL')"
   ]
  },
  {
   "cell_type": "code",
   "execution_count": 26,
   "metadata": {
    "execution": {
     "iopub.execute_input": "2020-12-31T23:41:39.084339Z",
     "iopub.status.busy": "2020-12-31T23:41:39.083784Z",
     "iopub.status.idle": "2020-12-31T23:41:39.811552Z",
     "shell.execute_reply": "2020-12-31T23:41:39.812004Z"
    },
    "papermill": {
     "duration": 0.771983,
     "end_time": "2020-12-31T23:41:39.812131",
     "exception": false,
     "start_time": "2020-12-31T23:41:39.040148",
     "status": "completed"
    },
    "tags": []
   },
   "outputs": [
    {
     "data": {
      "image/png": "[encoded data removed]",
      "text/plain": [
       "<Figure size 720x360 with 1 Axes>"
      ]
     },
     "metadata": {
      "needs_background": "light"
     },
     "output_type": "display_data"
    },
    {
     "data": {
      "image/png": "[encoded data removed]",
      "text/plain": [
       "<Figure size 720x360 with 1 Axes>"
      ]
     },
     "metadata": {
      "needs_background": "light"
     },
     "output_type": "display_data"
    }
   ],
   "source": [
    "histogram(application['DAYS_EMPLOYED'],bins=100, title='DAY EMPLOYED')\n",
    "\n",
    "# converting to year for easier intepretation\n",
    "histogram(application['DAYS_EMPLOYED']/365,bins=100, title='YEAR EMPLOYED')"
   ]
  },
  {
   "cell_type": "markdown",
   "metadata": {
    "papermill": {
     "duration": 0.041046,
     "end_time": "2020-12-31T23:41:39.894457",
     "exception": false,
     "start_time": "2020-12-31T23:41:39.853411",
     "status": "completed"
    },
    "tags": []
   },
   "source": [
    "This does not mean that there are people who have been employed for 1000 years!\n",
    "According to the dataset description. Count backwards from current day(0). If positive, it means the person currently unemployed.\n",
    "Let's plot days_employed again after removing the unemployed ones."
   ]
  },
  {
   "cell_type": "code",
   "execution_count": 27,
   "metadata": {
    "execution": {
     "iopub.execute_input": "2020-12-31T23:41:39.985959Z",
     "iopub.status.busy": "2020-12-31T23:41:39.984797Z",
     "iopub.status.idle": "2020-12-31T23:41:40.596892Z",
     "shell.execute_reply": "2020-12-31T23:41:40.596374Z"
    },
    "papermill": {
     "duration": 0.660127,
     "end_time": "2020-12-31T23:41:40.597010",
     "exception": false,
     "start_time": "2020-12-31T23:41:39.936883",
     "status": "completed"
    },
    "tags": []
   },
   "outputs": [
    {
     "data": {
      "image/png": "[encoded data removed]",
      "text/plain": [
       "<Figure size 720x360 with 1 Axes>"
      ]
     },
     "metadata": {
      "needs_background": "light"
     },
     "output_type": "display_data"
    },
    {
     "data": {
      "image/png": "[encoded data removed]",
      "text/plain": [
       "<Figure size 720x360 with 1 Axes>"
      ]
     },
     "metadata": {
      "needs_background": "light"
     },
     "output_type": "display_data"
    }
   ],
   "source": [
    "histogram(application[application['DAYS_EMPLOYED']<=0]['DAYS_EMPLOYED'], bins=100, title='DAYS_EMPLOYED')\n",
    "histogram(application[application['DAYS_EMPLOYED']<=0]['DAYS_EMPLOYED']/365, bins=100, title='YEARS_EMPLOYED')"
   ]
  },
  {
   "cell_type": "markdown",
   "metadata": {
    "papermill": {
     "duration": 0.043109,
     "end_time": "2020-12-31T23:41:40.682909",
     "exception": false,
     "start_time": "2020-12-31T23:41:40.639800",
     "status": "completed"
    },
    "tags": []
   },
   "source": [
    "# **CREDIT RECORD**"
   ]
  },
  {
   "cell_type": "code",
   "execution_count": 28,
   "metadata": {
    "execution": {
     "iopub.execute_input": "2020-12-31T23:41:40.849517Z",
     "iopub.status.busy": "2020-12-31T23:41:40.773811Z",
     "iopub.status.idle": "2020-12-31T23:41:40.862429Z",
     "shell.execute_reply": "2020-12-31T23:41:40.861824Z"
    },
    "papermill": {
     "duration": 0.137082,
     "end_time": "2020-12-31T23:41:40.862541",
     "exception": false,
     "start_time": "2020-12-31T23:41:40.725459",
     "status": "completed"
    },
    "tags": []
   },
   "outputs": [
    {
     "name": "stdout",
     "output_type": "stream",
     "text": [
      "<class 'pandas.core.frame.DataFrame'>\n",
      "Int64Index: 777715 entries, 92938 to 1048574\n",
      "Data columns (total 3 columns):\n",
      " #   Column          Non-Null Count   Dtype \n",
      "---  ------          --------------   ----- \n",
      " 0   ID              777715 non-null  int64 \n",
      " 1   MONTHS_BALANCE  777715 non-null  int64 \n",
      " 2   STATUS          777715 non-null  object\n",
      "dtypes: int64(2), object(1)\n",
      "memory usage: 23.7+ MB\n"
     ]
    }
   ],
   "source": [
    "credit.info()"
   ]
  },
  {
   "cell_type": "markdown",
   "metadata": {
    "papermill": {
     "duration": 0.045419,
     "end_time": "2020-12-31T23:41:40.952215",
     "exception": false,
     "start_time": "2020-12-31T23:41:40.906796",
     "status": "completed"
    },
    "tags": []
   },
   "source": [
    "There is aready a great vintage analysis for the credit dataset in this link https://www.kaggle.com/rikdifos/eda-vintage-analysis, so I'm just going to utilize his work for this project, including how to define good/bad credits."
   ]
  },
  {
   "cell_type": "markdown",
   "metadata": {
    "papermill": {
     "duration": 0.044244,
     "end_time": "2020-12-31T23:41:41.039784",
     "exception": false,
     "start_time": "2020-12-31T23:41:40.995540",
     "status": "completed"
    },
    "tags": []
   },
   "source": [
    "# **OTHERS**"
   ]
  },
  {
   "cell_type": "code",
   "execution_count": 29,
   "metadata": {
    "execution": {
     "iopub.execute_input": "2020-12-31T23:41:41.135371Z",
     "iopub.status.busy": "2020-12-31T23:41:41.134802Z",
     "iopub.status.idle": "2020-12-31T23:41:41.138013Z",
     "shell.execute_reply": "2020-12-31T23:41:41.137238Z"
    },
    "papermill": {
     "duration": 0.052399,
     "end_time": "2020-12-31T23:41:41.138125",
     "exception": false,
     "start_time": "2020-12-31T23:41:41.085726",
     "status": "completed"
    },
    "tags": []
   },
   "outputs": [],
   "source": [
    "import seaborn as sns"
   ]
  },
  {
   "cell_type": "code",
   "execution_count": 30,
   "metadata": {
    "execution": {
     "iopub.execute_input": "2020-12-31T23:41:41.238902Z",
     "iopub.status.busy": "2020-12-31T23:41:41.232626Z",
     "iopub.status.idle": "2020-12-31T23:41:41.521005Z",
     "shell.execute_reply": "2020-12-31T23:41:41.520531Z"
    },
    "papermill": {
     "duration": 0.339326,
     "end_time": "2020-12-31T23:41:41.521111",
     "exception": false,
     "start_time": "2020-12-31T23:41:41.181785",
     "status": "completed"
    },
    "tags": []
   },
   "outputs": [
    {
     "data": {
      "text/plain": [
       "<matplotlib.axes._subplots.AxesSubplot at 0x7f5ded5e9510>"
      ]
     },
     "execution_count": 30,
     "metadata": {},
     "output_type": "execute_result"
    },
    {
     "data": {
      "image/png": "[encoded data removed]",
      "text/plain": [
       "<Figure size 720x360 with 2 Axes>"
      ]
     },
     "metadata": {
      "needs_background": "light"
     },
     "output_type": "display_data"
    }
   ],
   "source": [
    "fig = plt.figure(figsize=(10,5))\n",
    "ax = fig.add_subplot()\n",
    "ax.set_title('Correlation Plot', fontsize=20)\n",
    "sns.heatmap(application[['CNT_CHILDREN', 'AMT_INCOME_TOTAL', 'DAYS_BIRTH', 'DAYS_EMPLOYED', 'FLAG_WORK_PHONE', \n",
    "                         'FLAG_PHONE', 'FLAG_EMAIL', 'CNT_FAM_MEMBERS']].corr(), ax=ax)"
   ]
  },
  {
   "cell_type": "markdown",
   "metadata": {
    "papermill": {
     "duration": 0.045482,
     "end_time": "2020-12-31T23:41:41.612388",
     "exception": false,
     "start_time": "2020-12-31T23:41:41.566906",
     "status": "completed"
    },
    "tags": []
   },
   "source": [
    "There's a strong correlation between DAYS_EMPLOYED and DAYS_BIRTH, CNT_FAM_MEMBERS and CNT_CHIDREN"
   ]
  },
  {
   "cell_type": "markdown",
   "metadata": {
    "papermill": {
     "duration": 0.044448,
     "end_time": "2020-12-31T23:41:41.703542",
     "exception": false,
     "start_time": "2020-12-31T23:41:41.659094",
     "status": "completed"
    },
    "tags": []
   },
   "source": [
    "# **TO DO FOR DATA PREPROCESSING**"
   ]
  },
  {
   "cell_type": "markdown",
   "metadata": {
    "papermill": {
     "duration": 0.044525,
     "end_time": "2020-12-31T23:41:41.792731",
     "exception": false,
     "start_time": "2020-12-31T23:41:41.748206",
     "status": "completed"
    },
    "tags": []
   },
   "source": [
    "* Drop all cases that are not shared between two datasets before processing any data\n",
    "* Drop FLAG_MOBIL column\n",
    "* Handle null values in OCCUPATION_TYPE\n",
    "* Consider merging the last few values of OCCUPATION_TYPE to some generic value (\"others\")\n",
    "* Handle unemployed cases in DAYS_EMPLOYED (we can probably make another binary column to specify whether they are employed or not\n",
    "* Research if skewed distribution in DAYS_EMPLOYED, COUNT_CHILDREN, COUNT_FAM_MEMBERS can affect the model, if yes, use log distribution\n",
    "* Handle multicolinearity after plotting out the ocrrelation chart\n",
    "* Consider using WOE to remove columns that have low weights\n",
    "* For credit dataset, classify them into good/bad customers\n",
    "* Encode variables"
   ]
  },
  {
   "cell_type": "markdown",
   "metadata": {
    "papermill": {
     "duration": 0.045233,
     "end_time": "2020-12-31T23:41:41.882623",
     "exception": false,
     "start_time": "2020-12-31T23:41:41.837390",
     "status": "completed"
    },
    "tags": []
   },
   "source": [
    "# **ACKNOWLEGEMENTS**"
   ]
  },
  {
   "cell_type": "markdown",
   "metadata": {
    "papermill": {
     "duration": 0.044634,
     "end_time": "2020-12-31T23:41:41.974088",
     "exception": false,
     "start_time": "2020-12-31T23:41:41.929454",
     "status": "completed"
    },
    "tags": []
   },
   "source": [
    "* https://www.kaggle.com/rikdifos/eda-vintage-analysis"
   ]
  }
 ],
 "metadata": {
  "kernelspec": {
   "display_name": "Python 3",
   "language": "python",
   "name": "python3"
  },
  "language_info": {
   "codemirror_mode": {
    "name": "ipython",
    "version": 3
   },
   "file_extension": ".py",
   "mimetype": "text/x-python",
   "name": "python",
   "nbconvert_exporter": "python",
   "pygments_lexer": "ipython3",
   "version": "3.7.6"
  },
  "papermill": {
   "duration": 16.337039,
   "end_time": "2020-12-31T23:41:42.125537",
   "environment_variables": {},
   "exception": null,
   "input_path": "__notebook__.ipynb",
   "output_path": "__notebook__.ipynb",
   "parameters": {},
   "start_time": "2020-12-31T23:41:25.788498",
   "version": "2.1.0"
  }
 },
 "nbformat": 4,
 "nbformat_minor": 4
}
