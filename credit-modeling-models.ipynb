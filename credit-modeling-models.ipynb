{
 "cells": [
  {
   "cell_type": "code",
   "execution_count": 1,
   "metadata": {
    "_cell_guid": "79c7e3d0-c299-4dcb-8224-4455121ee9b0",
    "_uuid": "d629ff2d2480ee46fbb7e2d37f6b5fab8052498a",
    "execution": {
     "iopub.execute_input": "2020-12-31T23:36:02.102032Z",
     "iopub.status.busy": "2020-12-31T23:36:02.101391Z",
     "iopub.status.idle": "2020-12-31T23:36:02.104082Z",
     "shell.execute_reply": "2020-12-31T23:36:02.103509Z"
    },
    "papermill": {
     "duration": 0.036433,
     "end_time": "2020-12-31T23:36:02.104197",
     "exception": false,
     "start_time": "2020-12-31T23:36:02.067764",
     "status": "completed"
    },
    "tags": []
   },
   "outputs": [],
   "source": [
    "import numpy as np\n",
    "import pandas as pd \n",
    "import matplotlib.pyplot as plt"
   ]
  },
  {
   "cell_type": "code",
   "execution_count": 2,
   "metadata": {
    "execution": {
     "iopub.execute_input": "2020-12-31T23:36:02.177781Z",
     "iopub.status.busy": "2020-12-31T23:36:02.177134Z",
     "iopub.status.idle": "2020-12-31T23:36:04.752863Z",
     "shell.execute_reply": "2020-12-31T23:36:04.752260Z"
    },
    "papermill": {
     "duration": 2.620748,
     "end_time": "2020-12-31T23:36:04.753002",
     "exception": false,
     "start_time": "2020-12-31T23:36:02.132254",
     "status": "completed"
    },
    "tags": []
   },
   "outputs": [],
   "source": [
    "application = pd.read_csv('../input/credit-card-approval-prediction/application_record.csv')\n",
    "credit = pd.read_csv('../input/credit-card-approval-prediction/credit_record.csv')\n",
    "\n",
    "# only model in the intersection cases between 2 dataset\n",
    "ids = set(application['ID']).intersection(set(credit['ID']))\n",
    "application = application[application['ID'].isin(ids)]\n",
    "credit = credit[credit['ID'].isin(ids)]"
   ]
  },
  {
   "cell_type": "code",
   "execution_count": 3,
   "metadata": {
    "execution": {
     "iopub.execute_input": "2020-12-31T23:36:04.814769Z",
     "iopub.status.busy": "2020-12-31T23:36:04.813864Z",
     "iopub.status.idle": "2020-12-31T23:36:04.858537Z",
     "shell.execute_reply": "2020-12-31T23:36:04.859344Z"
    },
    "papermill": {
     "duration": 0.078605,
     "end_time": "2020-12-31T23:36:04.859536",
     "exception": false,
     "start_time": "2020-12-31T23:36:04.780931",
     "status": "completed"
    },
    "tags": []
   },
   "outputs": [
    {
     "name": "stdout",
     "output_type": "stream",
     "text": [
      "<class 'pandas.core.frame.DataFrame'>\n",
      "Int64Index: 36457 entries, 0 to 434812\n",
      "Data columns (total 18 columns):\n",
      " #   Column               Non-Null Count  Dtype  \n",
      "---  ------               --------------  -----  \n",
      " 0   ID                   36457 non-null  int64  \n",
      " 1   CODE_GENDER          36457 non-null  object \n",
      " 2   FLAG_OWN_CAR         36457 non-null  object \n",
      " 3   FLAG_OWN_REALTY      36457 non-null  object \n",
      " 4   CNT_CHILDREN         36457 non-null  int64  \n",
      " 5   AMT_INCOME_TOTAL     36457 non-null  float64\n",
      " 6   NAME_INCOME_TYPE     36457 non-null  object \n",
      " 7   NAME_EDUCATION_TYPE  36457 non-null  object \n",
      " 8   NAME_FAMILY_STATUS   36457 non-null  object \n",
      " 9   NAME_HOUSING_TYPE    36457 non-null  object \n",
      " 10  DAYS_BIRTH           36457 non-null  int64  \n",
      " 11  DAYS_EMPLOYED        36457 non-null  int64  \n",
      " 12  FLAG_MOBIL           36457 non-null  int64  \n",
      " 13  FLAG_WORK_PHONE      36457 non-null  int64  \n",
      " 14  FLAG_PHONE           36457 non-null  int64  \n",
      " 15  FLAG_EMAIL           36457 non-null  int64  \n",
      " 16  OCCUPATION_TYPE      25134 non-null  object \n",
      " 17  CNT_FAM_MEMBERS      36457 non-null  float64\n",
      "dtypes: float64(2), int64(8), object(8)\n",
      "memory usage: 5.3+ MB\n"
     ]
    }
   ],
   "source": [
    "application.info()"
   ]
  },
  {
   "cell_type": "markdown",
   "metadata": {
    "papermill": {
     "duration": 0.028296,
     "end_time": "2020-12-31T23:36:04.917207",
     "exception": false,
     "start_time": "2020-12-31T23:36:04.888911",
     "status": "completed"
    },
    "tags": []
   },
   "source": [
    "# **WOE**"
   ]
  },
  {
   "cell_type": "markdown",
   "metadata": {
    "papermill": {
     "duration": 0.030549,
     "end_time": "2020-12-31T23:36:04.976880",
     "exception": false,
     "start_time": "2020-12-31T23:36:04.946331",
     "status": "completed"
    },
    "tags": []
   },
   "source": [
    "I'm going to use WOE transformation with Logistic Regression model to see if it can help improve the result. WOE transformation helps secure monotonic relationship between independent variable and dependent variable.\n",
    "\n",
    "https://www.listendata.com/2015/03/weight-of-evidence-woe-and-information.html"
   ]
  },
  {
   "cell_type": "code",
   "execution_count": 4,
   "metadata": {
    "execution": {
     "iopub.execute_input": "2020-12-31T23:36:05.046034Z",
     "iopub.status.busy": "2020-12-31T23:36:05.045258Z",
     "iopub.status.idle": "2020-12-31T23:36:05.048533Z",
     "shell.execute_reply": "2020-12-31T23:36:05.047955Z"
    },
    "papermill": {
     "duration": 0.042819,
     "end_time": "2020-12-31T23:36:05.048629",
     "exception": false,
     "start_time": "2020-12-31T23:36:05.005810",
     "status": "completed"
    },
    "tags": []
   },
   "outputs": [],
   "source": [
    "def calc_woe(feature, target):\n",
    "    lst = []\n",
    "    feature = feature.fillna(\"NULL\")\n",
    "    \n",
    "    if len(feature.unique()) > 10:\n",
    "        raise ValueError('This method currently only supports categorical features with cardinality less than 10')\n",
    "    \n",
    "    for group in list(feature.unique()):\n",
    "        good = len(feature[(feature == group) & (target == 0)])\n",
    "        bad = len(feature[(feature == group) & (target == 1)])\n",
    "        lst.append([group, good, bad])\n",
    "\n",
    "    data = pd.DataFrame(lst, columns=['Group', 'Good', 'Bad'])\n",
    "    data['Distribution Good'] = data['Good'] / data['Good'].sum()\n",
    "    data['Distribution Bad'] = data['Bad'] / data['Bad'].sum()\n",
    "    data['WoE'] = np.log(data['Distribution Good'] / data['Distribution Bad'])\n",
    "    \n",
    "    data = data.replace({'WoE': {np.inf: 0, -np.inf: 0}})\n",
    "    \n",
    "    return data"
   ]
  },
  {
   "cell_type": "code",
   "execution_count": 5,
   "metadata": {
    "execution": {
     "iopub.execute_input": "2020-12-31T23:36:05.115170Z",
     "iopub.status.busy": "2020-12-31T23:36:05.114201Z",
     "iopub.status.idle": "2020-12-31T23:36:05.117007Z",
     "shell.execute_reply": "2020-12-31T23:36:05.117508Z"
    },
    "papermill": {
     "duration": 0.040258,
     "end_time": "2020-12-31T23:36:05.117639",
     "exception": false,
     "start_time": "2020-12-31T23:36:05.077381",
     "status": "completed"
    },
    "tags": []
   },
   "outputs": [],
   "source": [
    "def woe_transform(feature_train, feature_test, target_train):\n",
    "    feature_train = feature_train.copy()\n",
    "    feature_test = feature_test.copy()\n",
    "    target_train = target_train.copy()\n",
    "    \n",
    "    result = calc_woe(feature_train, target_train)\n",
    "    \n",
    "    for i in range(len(result)):\n",
    "        feature_train[feature_train == result.iloc[i]['Group']] = result.iloc[i]['WoE']\n",
    "        feature_test[feature_test == result.iloc[i]['Group']] = result.iloc[i]['WoE']\n",
    "        \n",
    "    return feature_train, feature_test"
   ]
  },
  {
   "cell_type": "markdown",
   "metadata": {
    "papermill": {
     "duration": 0.028719,
     "end_time": "2020-12-31T23:36:05.175580",
     "exception": false,
     "start_time": "2020-12-31T23:36:05.146861",
     "status": "completed"
    },
    "tags": []
   },
   "source": [
    "# **Feature Engineering**"
   ]
  },
  {
   "cell_type": "markdown",
   "metadata": {
    "papermill": {
     "duration": 0.028673,
     "end_time": "2020-12-31T23:36:05.234125",
     "exception": false,
     "start_time": "2020-12-31T23:36:05.205452",
     "status": "completed"
    },
    "tags": []
   },
   "source": [
    "OCCUPATION TYPE"
   ]
  },
  {
   "cell_type": "markdown",
   "metadata": {
    "papermill": {
     "duration": 0.028311,
     "end_time": "2020-12-31T23:36:05.291130",
     "exception": false,
     "start_time": "2020-12-31T23:36:05.262819",
     "status": "completed"
    },
    "tags": []
   },
   "source": [
    "Because jobs in OCCUPATION_TYPE are generic, they will be less prone to overfit. Besides,dropping any value may cause a noticable loss of information."
   ]
  },
  {
   "cell_type": "code",
   "execution_count": 6,
   "metadata": {
    "execution": {
     "iopub.execute_input": "2020-12-31T23:36:05.358479Z",
     "iopub.status.busy": "2020-12-31T23:36:05.357726Z",
     "iopub.status.idle": "2020-12-31T23:36:05.360608Z",
     "shell.execute_reply": "2020-12-31T23:36:05.360132Z"
    },
    "papermill": {
     "duration": 0.040558,
     "end_time": "2020-12-31T23:36:05.360735",
     "exception": false,
     "start_time": "2020-12-31T23:36:05.320177",
     "status": "completed"
    },
    "tags": []
   },
   "outputs": [],
   "source": [
    "def impute_occupation_type(application):\n",
    "    \n",
    "    x = application.copy()\n",
    "    \n",
    "    probability = x['OCCUPATION_TYPE'].value_counts().to_numpy()/x['OCCUPATION_TYPE'].value_counts().sum()\n",
    "    job_list = x['OCCUPATION_TYPE'].value_counts().index.to_numpy()\n",
    "    indexes = range(len(x['OCCUPATION_TYPE'].value_counts()))\n",
    "    null_size = len(x[x['OCCUPATION_TYPE'].isnull()]['OCCUPATION_TYPE'])\n",
    "    \n",
    "    random_index = np.random.choice(a=indexes, size=null_size, p=probability)\n",
    "    \n",
    "    x.loc[:,'IMPUTED_OCCUPATION_TYPE'] = 0\n",
    "    x.loc[x['OCCUPATION_TYPE'].isnull(),'IMPUTED_OCCUPATION_TYPE'] = 1\n",
    "    x.loc[x['OCCUPATION_TYPE'].isnull(),'OCCUPATION_TYPE'] = job_list[random_index]\n",
    "\n",
    "    return x"
   ]
  },
  {
   "cell_type": "markdown",
   "metadata": {
    "papermill": {
     "duration": 0.027757,
     "end_time": "2020-12-31T23:36:05.416905",
     "exception": false,
     "start_time": "2020-12-31T23:36:05.389148",
     "status": "completed"
    },
    "tags": []
   },
   "source": [
    "DAYS_EMPLOYED"
   ]
  },
  {
   "cell_type": "code",
   "execution_count": 7,
   "metadata": {
    "execution": {
     "iopub.execute_input": "2020-12-31T23:36:05.481332Z",
     "iopub.status.busy": "2020-12-31T23:36:05.480604Z",
     "iopub.status.idle": "2020-12-31T23:36:05.483683Z",
     "shell.execute_reply": "2020-12-31T23:36:05.483171Z"
    },
    "papermill": {
     "duration": 0.038225,
     "end_time": "2020-12-31T23:36:05.483825",
     "exception": false,
     "start_time": "2020-12-31T23:36:05.445600",
     "status": "completed"
    },
    "tags": []
   },
   "outputs": [],
   "source": [
    "def create_unemployed_column(application):\n",
    "    x = application.copy()\n",
    "    \n",
    "    x.loc[x['DAYS_EMPLOYED']<=0,'UNEMPLOYED'] = 0 \n",
    "    x.loc[x['DAYS_EMPLOYED']>0,'UNEMPLOYED'] = 1 \n",
    "    \n",
    "    return x"
   ]
  },
  {
   "cell_type": "markdown",
   "metadata": {
    "papermill": {
     "duration": 0.028352,
     "end_time": "2020-12-31T23:36:05.540813",
     "exception": false,
     "start_time": "2020-12-31T23:36:05.512461",
     "status": "completed"
    },
    "tags": []
   },
   "source": [
    "Remove outliers"
   ]
  },
  {
   "cell_type": "code",
   "execution_count": 8,
   "metadata": {
    "execution": {
     "iopub.execute_input": "2020-12-31T23:36:05.609081Z",
     "iopub.status.busy": "2020-12-31T23:36:05.608420Z",
     "iopub.status.idle": "2020-12-31T23:36:05.611669Z",
     "shell.execute_reply": "2020-12-31T23:36:05.611079Z"
    },
    "papermill": {
     "duration": 0.042327,
     "end_time": "2020-12-31T23:36:05.611839",
     "exception": false,
     "start_time": "2020-12-31T23:36:05.569512",
     "status": "completed"
    },
    "tags": []
   },
   "outputs": [],
   "source": [
    "continuous_columns = ['CNT_CHILDREN','CNT_FAM_MEMBERS','DAYS_BIRTH','DAYS_EMPLOYED','CNT_FAM_MEMBERS']\n",
    "def remove_outliers(data, column):\n",
    "    if column == 'DAYS_EMPLOYED':\n",
    "        Q1 = data[data[column]<=0][column].quantile(0.25)\n",
    "        Q3 = data[data[column]<=0][column].quantile(0.75)        \n",
    "        IQR = Q3-Q1\n",
    "        return data[((Q1-1.5*IQR <= data[column]) & (data[column] <= Q3+1.5*IQR)) | data[column]>0]\n",
    "    else:\n",
    "        Q1 = data[column].quantile(0.25)\n",
    "        Q3 = data[column].quantile(0.75)\n",
    "        IQR = Q3-Q1\n",
    "        return data[(Q1-1.5*IQR <= data[column]) & (data[column] <= Q3+1.5*IQR)]"
   ]
  },
  {
   "cell_type": "markdown",
   "metadata": {
    "papermill": {
     "duration": 0.028358,
     "end_time": "2020-12-31T23:36:05.669571",
     "exception": false,
     "start_time": "2020-12-31T23:36:05.641213",
     "status": "completed"
    },
    "tags": []
   },
   "source": [
    "Transform Skewed Data"
   ]
  },
  {
   "cell_type": "code",
   "execution_count": 9,
   "metadata": {
    "execution": {
     "iopub.execute_input": "2020-12-31T23:36:05.737974Z",
     "iopub.status.busy": "2020-12-31T23:36:05.737309Z",
     "iopub.status.idle": "2020-12-31T23:36:05.772459Z",
     "shell.execute_reply": "2020-12-31T23:36:05.771994Z"
    },
    "papermill": {
     "duration": 0.074105,
     "end_time": "2020-12-31T23:36:05.772555",
     "exception": false,
     "start_time": "2020-12-31T23:36:05.698450",
     "status": "completed"
    },
    "tags": []
   },
   "outputs": [
    {
     "name": "stdout",
     "output_type": "stream",
     "text": [
      "Skewness coefficient\n",
      "CNT_FAM_MEMBERS ------\n",
      "Before: 1.2985959074733653\n",
      "After:  -0.2253083071969985\n",
      "CNT_CHILDREN ------\n",
      "Before: 2.5693822021105657\n",
      "After:  0.842558906737619\n",
      "AMT_INCOME_TOTAL ------\n",
      "Before: 2.739009876253129\n",
      "After:  0.09531218001198272\n",
      "DAYS_EMPLOYED ------\n",
      "Before: -1.731240402655581\n",
      "After:  -0.6094234619014184\n"
     ]
    }
   ],
   "source": [
    "before = application['CNT_FAM_MEMBERS'].skew()\n",
    "after = np.log(application['CNT_FAM_MEMBERS']).skew()\n",
    "print('Skewness coefficient')\n",
    "print('CNT_FAM_MEMBERS ------')\n",
    "print(f'Before: {before}')\n",
    "print(f'After:  {after}')\n",
    "\n",
    "before = application['CNT_CHILDREN'].skew()\n",
    "after = np.power(application['CNT_CHILDREN'],1/7).skew()\n",
    "print('CNT_CHILDREN ------')\n",
    "print(f'Before: {before}')\n",
    "print(f'After:  {after}')\n",
    "\n",
    "before = application['AMT_INCOME_TOTAL'].skew()\n",
    "after = np.log(application['AMT_INCOME_TOTAL']).skew()\n",
    "print('AMT_INCOME_TOTAL ------')\n",
    "print(f'Before: {before}')\n",
    "print(f'After:  {after}')\n",
    "\n",
    "# Only transform the ones < 0 (customers currently being employed)\n",
    "before = application.loc[application['DAYS_EMPLOYED']<0,'DAYS_EMPLOYED'].skew()\n",
    "after = (-1*np.sqrt(-1*application.loc[application['DAYS_EMPLOYED']<0,'DAYS_EMPLOYED'])).skew()\n",
    "print('DAYS_EMPLOYED ------')\n",
    "print(f'Before: {before}')\n",
    "print(f'After:  {after}')"
   ]
  },
  {
   "cell_type": "code",
   "execution_count": 10,
   "metadata": {
    "execution": {
     "iopub.execute_input": "2020-12-31T23:36:05.839365Z",
     "iopub.status.busy": "2020-12-31T23:36:05.838752Z",
     "iopub.status.idle": "2020-12-31T23:36:05.841508Z",
     "shell.execute_reply": "2020-12-31T23:36:05.842044Z"
    },
    "papermill": {
     "duration": 0.040074,
     "end_time": "2020-12-31T23:36:05.842184",
     "exception": false,
     "start_time": "2020-12-31T23:36:05.802110",
     "status": "completed"
    },
    "tags": []
   },
   "outputs": [],
   "source": [
    "def transform_skewed_data(application):\n",
    "    x = application.copy()\n",
    "    \n",
    "    x.loc[:,'CNT_FAM_MEMBERS'] = np.log(x['CNT_FAM_MEMBERS'])\n",
    "    x.loc[:,'CNT_CHILDREN'] = np.power(x['CNT_CHILDREN'],1/7)\n",
    "    x.loc[:,'AMT_INCOME_TOTAL'] = np.log(x['AMT_INCOME_TOTAL'])\n",
    "    x.loc[application['DAYS_EMPLOYED']<0,'DAYS_EMPLOYED']  = -1*np.sqrt(-1*x.loc[application['DAYS_EMPLOYED']<0,'DAYS_EMPLOYED'])\n",
    "    \n",
    "    return x"
   ]
  },
  {
   "cell_type": "markdown",
   "metadata": {
    "papermill": {
     "duration": 0.030307,
     "end_time": "2020-12-31T23:36:05.902420",
     "exception": false,
     "start_time": "2020-12-31T23:36:05.872113",
     "status": "completed"
    },
    "tags": []
   },
   "source": [
    "Encode dataset"
   ]
  },
  {
   "cell_type": "code",
   "execution_count": 11,
   "metadata": {
    "execution": {
     "iopub.execute_input": "2020-12-31T23:36:05.970128Z",
     "iopub.status.busy": "2020-12-31T23:36:05.969217Z",
     "iopub.status.idle": "2020-12-31T23:36:06.830421Z",
     "shell.execute_reply": "2020-12-31T23:36:06.829809Z"
    },
    "papermill": {
     "duration": 0.898201,
     "end_time": "2020-12-31T23:36:06.830533",
     "exception": false,
     "start_time": "2020-12-31T23:36:05.932332",
     "status": "completed"
    },
    "tags": []
   },
   "outputs": [],
   "source": [
    "from sklearn.preprocessing import OneHotEncoder\n",
    "categorical_columns = ['CODE_GENDER','FLAG_OWN_CAR', 'FLAG_OWN_REALTY','NAME_INCOME_TYPE','NAME_EDUCATION_TYPE','NAME_FAMILY_STATUS',\n",
    "                       'NAME_HOUSING_TYPE','OCCUPATION_TYPE']\n",
    "\n",
    "def encode(features, encode_cols):\n",
    "    encoder = OneHotEncoder(handle_unknown='ignore', sparse=False)\n",
    "    encoder.fit(application[encode_cols].dropna())\n",
    "    \n",
    "    x = features.copy().reset_index()\n",
    "    x = x.join(pd.DataFrame(encoder.transform(x[encode_cols])))\n",
    "    x = x.drop(categorical_columns,axis=1)\n",
    "    return x"
   ]
  },
  {
   "cell_type": "markdown",
   "metadata": {
    "papermill": {
     "duration": 0.029012,
     "end_time": "2020-12-31T23:36:06.889572",
     "exception": false,
     "start_time": "2020-12-31T23:36:06.860560",
     "status": "completed"
    },
    "tags": []
   },
   "source": [
    "# **Labels**"
   ]
  },
  {
   "cell_type": "markdown",
   "metadata": {
    "papermill": {
     "duration": 0.029411,
     "end_time": "2020-12-31T23:36:06.949248",
     "exception": false,
     "start_time": "2020-12-31T23:36:06.919837",
     "status": "completed"
    },
    "tags": []
   },
   "source": [
    "From https://www.kaggle.com/rikdifos/eda-vintage-analysis, we choose to discard all records that last for less than 20 months to reduce noises (too short obeservation window won't be able to show the behaviour of the customers).Any customers that default for 60 days or more are labeled as bad customers. Otherwise, they are labeled as good."
   ]
  },
  {
   "cell_type": "code",
   "execution_count": 12,
   "metadata": {
    "execution": {
     "iopub.execute_input": "2020-12-31T23:36:07.021546Z",
     "iopub.status.busy": "2020-12-31T23:36:07.020849Z",
     "iopub.status.idle": "2020-12-31T23:36:07.023850Z",
     "shell.execute_reply": "2020-12-31T23:36:07.023192Z"
    },
    "papermill": {
     "duration": 0.044624,
     "end_time": "2020-12-31T23:36:07.023963",
     "exception": false,
     "start_time": "2020-12-31T23:36:06.979339",
     "status": "completed"
    },
    "tags": []
   },
   "outputs": [],
   "source": [
    "def get_credit_status(credit):\n",
    "    group=credit.groupby('ID')\n",
    "    pivot_tb = credit.pivot(index = 'ID', columns = 'MONTHS_BALANCE', values = 'STATUS')\n",
    "    pivot_tb['open_month'] = group['MONTHS_BALANCE'].min()\n",
    "    pivot_tb['end_month'] = group['MONTHS_BALANCE'].max() \n",
    "    pivot_tb['ID'] = pivot_tb.index\n",
    "    pivot_tb = pivot_tb[['ID', 'open_month', 'end_month']]\n",
    "    pivot_tb['window'] = pivot_tb['end_month'] - pivot_tb['open_month'] \n",
    "    pivot_tb.reset_index(drop = True, inplace = True)\n",
    "    credit0 = credit.copy()\n",
    "    credit0 = pd.merge(credit0, pivot_tb, on = 'ID', how = 'left') \n",
    "    credit0=credit0[credit0['window']>=20]\n",
    "    credit0['status']=np.where((credit0['STATUS']=='2')| (credit0['STATUS']=='3')|(credit0['STATUS']=='4')|(credit0['STATUS']=='5'),1,0)\n",
    "    \n",
    "    return credit0"
   ]
  },
  {
   "cell_type": "markdown",
   "metadata": {
    "papermill": {
     "duration": 0.03036,
     "end_time": "2020-12-31T23:36:07.084932",
     "exception": false,
     "start_time": "2020-12-31T23:36:07.054572",
     "status": "completed"
    },
    "tags": []
   },
   "source": [
    "# **Processing Data**"
   ]
  },
  {
   "cell_type": "code",
   "execution_count": 13,
   "metadata": {
    "execution": {
     "iopub.execute_input": "2020-12-31T23:36:07.148231Z",
     "iopub.status.busy": "2020-12-31T23:36:07.147614Z",
     "iopub.status.idle": "2020-12-31T23:36:07.511455Z",
     "shell.execute_reply": "2020-12-31T23:36:07.510848Z"
    },
    "papermill": {
     "duration": 0.396497,
     "end_time": "2020-12-31T23:36:07.511567",
     "exception": false,
     "start_time": "2020-12-31T23:36:07.115070",
     "status": "completed"
    },
    "tags": []
   },
   "outputs": [],
   "source": [
    "from imblearn.over_sampling import SMOTE\n",
    "from imblearn.under_sampling import RandomUnderSampler\n",
    "\n",
    "def oversampling(X, y, sampling_strategy=0.5):\n",
    "\n",
    "    sm = SMOTE(sampling_strategy=sampling_strategy)\n",
    "    X, y = sm.fit_resample(X,y)\n",
    "    return X, y\n",
    "\n",
    "def downsampling(X, y, sampling_strategy=0.5):\n",
    "    us = RandomUnderSampler(sampling_strategy=sampling_strategy)\n",
    "    X, y = us.fit_resample(X,y)\n",
    "    return X,y"
   ]
  },
  {
   "cell_type": "code",
   "execution_count": 14,
   "metadata": {
    "execution": {
     "iopub.execute_input": "2020-12-31T23:36:07.591765Z",
     "iopub.status.busy": "2020-12-31T23:36:07.590803Z",
     "iopub.status.idle": "2020-12-31T23:36:07.594258Z",
     "shell.execute_reply": "2020-12-31T23:36:07.593734Z"
    },
    "papermill": {
     "duration": 0.052335,
     "end_time": "2020-12-31T23:36:07.594370",
     "exception": false,
     "start_time": "2020-12-31T23:36:07.542035",
     "status": "completed"
    },
    "tags": []
   },
   "outputs": [],
   "source": [
    "def process_datasets(x_train, x_test, y_train, y_test, oversampling_strategy=0.5, down_sampling_strategy=0.5, transform_skewed = True, woe_cols = [], encode_cols = categorical_columns):\n",
    "    \"\"\"\n",
    "    This function is a wrapper function for all of the preproccessing steps\n",
    "    \n",
    "    - x_train: unprocessed train application dataset\n",
    "    _ x_test: unprocessed test application dataset\n",
    "    - y_train: unprocessed train credit dataset\n",
    "    - y_test : unprocessed test credit dataset\n",
    "    - oversampling_factor:  oversample the positive cases by this factor (because the current label method only has 3% as positive)\n",
    "    - down_sampling_amount: remove this amount of negative cases to balance positive/negative cases\n",
    "    _ transform_skewed: if True, transform any skewed continuous data in the application datasset\n",
    "    \"\"\"\n",
    "    \n",
    "    # encode x\n",
    "    x_train = impute_occupation_type(x_train)\n",
    "    x_train = create_unemployed_column(x_train)\n",
    "    if transform_skewed:\n",
    "        x_train = transform_skewed_data(x_train)\n",
    "    \n",
    "    x_test = impute_occupation_type(x_test)\n",
    "    x_test = create_unemployed_column(x_test)\n",
    "    if transform_skewed:\n",
    "        x_test = transform_skewed_data(x_test)\n",
    "    \n",
    "    # encode y\n",
    "    y_train = get_credit_status(y_train)[['ID','status']]\n",
    "    y_test = get_credit_status(y_test)[['ID','status']]\n",
    "\n",
    "    y_train = y_train.groupby('ID').any().reset_index()\n",
    "    y_test = y_test.groupby('ID').any().reset_index()\n",
    "    \n",
    "    # encode x\n",
    "    encode_cols = encode_cols.copy()\n",
    "    for col in woe_cols:\n",
    "        x_train[col], x_test[col] = woe_transform(x_train[col], x_test[col], y_train['status']) \n",
    "        if col in encode_cols:\n",
    "            encode_cols.remove(col)\n",
    "\n",
    "    x_train = encode(x_train, encode_cols)\n",
    "    x_test = encode(x_test, encode_cols)\n",
    "    \n",
    "    # Merge x and y together to make sure the ids matches\n",
    "\n",
    "    merged_train = x_train.merge(y_train, on='ID')\n",
    "    merged_test = x_test.merge(y_test, on='ID')\n",
    "    \n",
    "    # remove outliers\n",
    "    for col in continuous_columns:\n",
    "        merged_train = remove_outliers(merged_train, col)\n",
    "    \n",
    "    x_train = merged_train.drop(['ID', 'status'],axis=1)\n",
    "    x_test = merged_test.drop(['ID', 'status'],axis=1)\n",
    "    y_train = merged_train['status']\n",
    "    y_test = merged_test['status']\n",
    "    \n",
    "    # oversampling/downsampling\n",
    "    if oversampling_strategy:\n",
    "        x_train, y_train = oversampling(x_train, y_train, sampling_strategy=oversampling_strategy)\n",
    "    if down_sampling_strategy:\n",
    "        x_train, y_train = downsampling(x_train, y_train, sampling_strategy=down_sampling_strategy)\n",
    "    \n",
    "    return x_train, x_test, y_train, y_test"
   ]
  },
  {
   "cell_type": "markdown",
   "metadata": {
    "papermill": {
     "duration": 0.030323,
     "end_time": "2020-12-31T23:36:07.656899",
     "exception": false,
     "start_time": "2020-12-31T23:36:07.626576",
     "status": "completed"
    },
    "tags": []
   },
   "source": [
    "# **Cross Validation**"
   ]
  },
  {
   "cell_type": "code",
   "execution_count": 15,
   "metadata": {
    "execution": {
     "iopub.execute_input": "2020-12-31T23:36:07.723073Z",
     "iopub.status.busy": "2020-12-31T23:36:07.722427Z",
     "iopub.status.idle": "2020-12-31T23:36:07.725900Z",
     "shell.execute_reply": "2020-12-31T23:36:07.726368Z"
    },
    "papermill": {
     "duration": 0.03981,
     "end_time": "2020-12-31T23:36:07.726488",
     "exception": false,
     "start_time": "2020-12-31T23:36:07.686678",
     "status": "completed"
    },
    "tags": []
   },
   "outputs": [
    {
     "name": "stdout",
     "output_type": "stream",
     "text": [
      "Train size: 23332, Validation size: 5833, Test size: 7292\n"
     ]
    }
   ],
   "source": [
    "from sklearn.utils import shuffle\n",
    "\n",
    "# train/val/test\n",
    "# 64/16/20\n",
    "train_size = len(application)*64//100\n",
    "val_size = len(application)*16//100\n",
    "test_size = len(application)- train_size - val_size\n",
    "fold_size = val_size\n",
    "print(f'Train size: {train_size}, Validation size: {val_size}, Test size: {test_size}')"
   ]
  },
  {
   "cell_type": "markdown",
   "metadata": {
    "papermill": {
     "duration": 0.030224,
     "end_time": "2020-12-31T23:36:07.786835",
     "exception": false,
     "start_time": "2020-12-31T23:36:07.756611",
     "status": "completed"
    },
    "tags": []
   },
   "source": [
    "Split cross-validation/test"
   ]
  },
  {
   "cell_type": "code",
   "execution_count": 16,
   "metadata": {
    "execution": {
     "iopub.execute_input": "2020-12-31T23:36:07.854795Z",
     "iopub.status.busy": "2020-12-31T23:36:07.854163Z",
     "iopub.status.idle": "2020-12-31T23:36:07.865620Z",
     "shell.execute_reply": "2020-12-31T23:36:07.865120Z"
    },
    "papermill": {
     "duration": 0.047818,
     "end_time": "2020-12-31T23:36:07.865746",
     "exception": false,
     "start_time": "2020-12-31T23:36:07.817928",
     "status": "completed"
    },
    "tags": []
   },
   "outputs": [],
   "source": [
    "application = shuffle(application)\n",
    "\n",
    "cv_application = application[:train_size+val_size].copy()\n",
    "test_application = application[train_size+val_size:].copy()"
   ]
  },
  {
   "cell_type": "code",
   "execution_count": 17,
   "metadata": {
    "execution": {
     "iopub.execute_input": "2020-12-31T23:36:07.939518Z",
     "iopub.status.busy": "2020-12-31T23:36:07.938826Z",
     "iopub.status.idle": "2020-12-31T23:36:12.952401Z",
     "shell.execute_reply": "2020-12-31T23:36:12.952963Z"
    },
    "papermill": {
     "duration": 5.05689,
     "end_time": "2020-12-31T23:36:12.953106",
     "exception": false,
     "start_time": "2020-12-31T23:36:07.896216",
     "status": "completed"
    },
    "tags": []
   },
   "outputs": [],
   "source": [
    "from sklearn.linear_model import LogisticRegression\n",
    "import tensorflow as tf\n",
    "import tensorflow.keras as keras\n",
    "import tensorflow.keras.layers as layers\n",
    "from sklearn.neighbors import KNeighborsClassifier\n",
    "from sklearn.ensemble import RandomForestClassifier\n",
    "    \n",
    "def initiate_model(model_name):\n",
    "    if model_name == 'LogisticRegression':\n",
    "        return LogisticRegression(max_iter=400)\n",
    "    elif model_name == 'KNN':\n",
    "        return KNeighborsClassifier(n_neighbors=900)\n",
    "    elif model_name == 'RandomForest':\n",
    "        return RandomForestClassifier(n_jobs=-1, max_samples=0.8, max_features='sqrt') \n",
    "    elif model_name == 'NeuroNetwork':\n",
    "        nn_model = keras.Sequential([layers.Dense(64, activation='relu'),\n",
    "                                     layers.Dense(128, activation='relu'),\n",
    "                                     layers.Dense(128, activation='relu'),\n",
    "                                     layers.Dense(1, activation='sigmoid')])\n",
    "\n",
    "        nn_model.compile(keras.optimizers.Adam(), keras.losses.BinaryCrossentropy(), metrics=[keras.metrics.BinaryAccuracy()])\n",
    "        \n",
    "        return nn_model\n",
    "    else:\n",
    "        raise ValueError('This model is not currently supported.')"
   ]
  },
  {
   "cell_type": "code",
   "execution_count": 18,
   "metadata": {
    "execution": {
     "iopub.execute_input": "2020-12-31T23:36:13.041340Z",
     "iopub.status.busy": "2020-12-31T23:36:13.031191Z",
     "iopub.status.idle": "2020-12-31T23:36:13.044454Z",
     "shell.execute_reply": "2020-12-31T23:36:13.043956Z"
    },
    "papermill": {
     "duration": 0.059433,
     "end_time": "2020-12-31T23:36:13.044565",
     "exception": false,
     "start_time": "2020-12-31T23:36:12.985132",
     "status": "completed"
    },
    "tags": []
   },
   "outputs": [],
   "source": [
    "from sklearn.metrics import fbeta_score, accuracy_score, precision_score, recall_score, precision_recall_curve, auc\n",
    "\n",
    "f_beta = 0.5\n",
    "\n",
    "def cross_validation(model_name, application, credit, epochs=10, oversampling_strategy=0.5, down_sampling_strategy=0.5, transform_skewed = True, woe_cols=[]):\n",
    "    \"\"\"\n",
    "    This function performs cross validation and acts as a wrapper function for preproccessing, fitting, and evaluating steps\n",
    "    \n",
    "    - model: machine learning model\n",
    "    - application: application dataset\n",
    "    - credit: credit dataset\n",
    "    - epochs: this only apply to the Neural Network, number of epochs to train\n",
    "    - oversampling_strategy:  oversample the positive cases so that postive/negative = oversampling_strategy (because the current label method only has 3% as positive)\n",
    "    - down_sampling_strategy: remove negative cases to so that (negative-postive)/positive = down_sampling_strategy\n",
    "    _ transform_skewed: if True, transform any skewed continuous data in the application datasset\n",
    "    - threshold: this only apply to the Neural Network, threshold for the decision boundary\n",
    "    \"\"\"\n",
    "    application = shuffle(application)\n",
    "    total_acc = 0\n",
    "    total_f05 = 0\n",
    "    total_precision = 0\n",
    "    total_recall = 0\n",
    "    models = list()\n",
    "    thresholds_list = list()\n",
    "    \n",
    "    for i in range(5):\n",
    "        model = initiate_model(model_name)\n",
    "        \n",
    "        x_train = application[:fold_size*i+1].append(application[fold_size*(i+1)-1:]).copy()\n",
    "        x_test = application[fold_size*i:fold_size*(i+1)].copy()\n",
    "\n",
    "        y_train = credit[credit['ID'].isin(x_train['ID'])].copy()\n",
    "        y_test = credit[credit['ID'].isin(x_test['ID'])].copy()\n",
    "    \n",
    "    \n",
    "        x_train, x_test, y_train, y_test = process_datasets(x_train, x_test, y_train, y_test, oversampling_strategy=oversampling_strategy, \n",
    "                                                            down_sampling_strategy=down_sampling_strategy, transform_skewed=transform_skewed, woe_cols=woe_cols)\n",
    "        \n",
    "        if str(type(model)) == \"<class 'tensorflow.python.keras.engine.sequential.Sequential'>\":\n",
    "            model.fit(x_train, y_train, epochs=epochs, verbose=0)\n",
    "        else:\n",
    "            model = model.fit(x_train, y_train)\n",
    "        \n",
    "        predictions = model.predict(x_test)\n",
    "        if str(type(model)) == \"<class 'tensorflow.python.keras.engine.sequential.Sequential'>\" or str(type(model)) == \"<class 'sklearn.linear_model._logistic.LogisticRegression'>\":\n",
    "            if str(type(model)) == \"<class 'tensorflow.python.keras.engine.sequential.Sequential'>\":\n",
    "                probs = predictions\n",
    "            else:\n",
    "                probs = model.predict_proba(x_test)[:,1]\n",
    "            \n",
    "            pre, rec, thresholds = precision_recall_curve(y_test, probs)\n",
    "            f = (1+np.power(f_beta,2)) * pre * rec / (np.power(f_beta,2)*pre + rec)\n",
    "            threshold = thresholds[np.argmax(f)]\n",
    "            thresholds_list.append(threshold)\n",
    "            predictions = probs >= threshold\n",
    "            print('Threshold:{} , F05: {}'.format(threshold, f[np.argmax(f)]))\n",
    "        \n",
    "        models.append(model)\n",
    "        total_acc = total_acc + accuracy_score(y_test, predictions)\n",
    "        total_f05 = total_f05 + fbeta_score(y_test, predictions, beta=0.5)\n",
    "        total_precision = total_precision + precision_score(y_test, predictions)\n",
    "        total_recall = total_recall + recall_score(y_test,predictions)\n",
    "    \n",
    "    if thresholds_list:\n",
    "        return total_acc/5, total_f05/5, total_precision/5, total_recall/5, models, thresholds_list\n",
    "    else:\n",
    "        return total_acc/5, total_f05/5, total_precision/5, total_recall/5, models"
   ]
  },
  {
   "cell_type": "markdown",
   "metadata": {
    "papermill": {
     "duration": 0.031561,
     "end_time": "2020-12-31T23:36:13.107425",
     "exception": false,
     "start_time": "2020-12-31T23:36:13.075864",
     "status": "completed"
    },
    "tags": []
   },
   "source": [
    "# **Models Selection**"
   ]
  },
  {
   "cell_type": "markdown",
   "metadata": {
    "papermill": {
     "duration": 0.031676,
     "end_time": "2020-12-31T23:36:13.170955",
     "exception": false,
     "start_time": "2020-12-31T23:36:13.139279",
     "status": "completed"
    },
    "tags": []
   },
   "source": [
    "> **Logistic Regression**"
   ]
  },
  {
   "cell_type": "code",
   "execution_count": 19,
   "metadata": {
    "execution": {
     "iopub.execute_input": "2020-12-31T23:36:13.240726Z",
     "iopub.status.busy": "2020-12-31T23:36:13.239525Z",
     "iopub.status.idle": "2020-12-31T23:36:28.964239Z",
     "shell.execute_reply": "2020-12-31T23:36:28.964816Z"
    },
    "papermill": {
     "duration": 15.763265,
     "end_time": "2020-12-31T23:36:28.965003",
     "exception": false,
     "start_time": "2020-12-31T23:36:13.201738",
     "status": "completed"
    },
    "tags": []
   },
   "outputs": [
    {
     "name": "stdout",
     "output_type": "stream",
     "text": [
      "Threshold:0.997303909062253 , F05: 0.7584269662921349\n",
      "Threshold:0.9959900980193352 , F05: 0.8498023715415021\n",
      "Threshold:0.9934921400052862 , F05: 0.8192090395480226\n",
      "Threshold:0.9924691970411856 , F05: 0.8366533864541833\n",
      "Threshold:0.9920339208202269 , F05: 0.7878787878787877\n"
     ]
    }
   ],
   "source": [
    "woe_columns = ['CODE_GENDER', 'FLAG_OWN_CAR', 'FLAG_OWN_REALTY', 'NAME_INCOME_TYPE','NAME_EDUCATION_TYPE',\n",
    "               'NAME_FAMILY_STATUS','NAME_HOUSING_TYPE','FLAG_MOBIL','FLAG_WORK_PHONE','FLAG_PHONE','FLAG_EMAIL']\n",
    "\n",
    "acc, f05, precision, recall, models, lr_thresholds = cross_validation('LogisticRegression', cv_application, credit, oversampling_strategy=0.5, \n",
    "                                                       down_sampling_strategy=0.5, transform_skewed = True, woe_cols=woe_columns)"
   ]
  },
  {
   "cell_type": "code",
   "execution_count": 20,
   "metadata": {
    "execution": {
     "iopub.execute_input": "2020-12-31T23:36:29.042688Z",
     "iopub.status.busy": "2020-12-31T23:36:29.042088Z",
     "iopub.status.idle": "2020-12-31T23:36:29.047846Z",
     "shell.execute_reply": "2020-12-31T23:36:29.048302Z"
    },
    "papermill": {
     "duration": 0.045982,
     "end_time": "2020-12-31T23:36:29.048430",
     "exception": false,
     "start_time": "2020-12-31T23:36:29.002448",
     "status": "completed"
    },
    "tags": []
   },
   "outputs": [
    {
     "name": "stdout",
     "output_type": "stream",
     "text": [
      "Acc: 0.9852280612812592\n",
      "f05: 0.8103941103429262\n",
      "Precision: 1.0\n",
      "Recall: 0.46484838477859747\n"
     ]
    }
   ],
   "source": [
    "print(f'Acc: {acc}')\n",
    "print(f'f05: {f05}')\n",
    "print(f'Precision: {precision}')\n",
    "print(f'Recall: {recall}')"
   ]
  },
  {
   "cell_type": "markdown",
   "metadata": {
    "papermill": {
     "duration": 0.033376,
     "end_time": "2020-12-31T23:36:29.115155",
     "exception": false,
     "start_time": "2020-12-31T23:36:29.081779",
     "status": "completed"
    },
    "tags": []
   },
   "source": [
    "> **KNN**"
   ]
  },
  {
   "cell_type": "code",
   "execution_count": 21,
   "metadata": {
    "execution": {
     "iopub.execute_input": "2020-12-31T23:36:29.189980Z",
     "iopub.status.busy": "2020-12-31T23:36:29.189006Z",
     "iopub.status.idle": "2020-12-31T23:36:42.858222Z",
     "shell.execute_reply": "2020-12-31T23:36:42.857235Z"
    },
    "papermill": {
     "duration": 13.709653,
     "end_time": "2020-12-31T23:36:42.858364",
     "exception": false,
     "start_time": "2020-12-31T23:36:29.148711",
     "status": "completed"
    },
    "tags": []
   },
   "outputs": [],
   "source": [
    "acc, f05, precision, recall, models = cross_validation('KNN', cv_application, credit, oversampling_strategy=0.5, down_sampling_strategy=0.5, transform_skewed = True)"
   ]
  },
  {
   "cell_type": "code",
   "execution_count": 22,
   "metadata": {
    "execution": {
     "iopub.execute_input": "2020-12-31T23:36:42.933020Z",
     "iopub.status.busy": "2020-12-31T23:36:42.932355Z",
     "iopub.status.idle": "2020-12-31T23:36:42.935061Z",
     "shell.execute_reply": "2020-12-31T23:36:42.935932Z"
    },
    "papermill": {
     "duration": 0.043541,
     "end_time": "2020-12-31T23:36:42.936136",
     "exception": false,
     "start_time": "2020-12-31T23:36:42.892595",
     "status": "completed"
    },
    "tags": []
   },
   "outputs": [
    {
     "name": "stdout",
     "output_type": "stream",
     "text": [
      "Acc: 0.9852110150013754\n",
      "f05: 0.8145593468805208\n",
      "Precision: 1.0\n",
      "Recall: 0.4699016450629882\n"
     ]
    }
   ],
   "source": [
    "print(f'Acc: {acc}')\n",
    "print(f'f05: {f05}')\n",
    "print(f'Precision: {precision}')\n",
    "print(f'Recall: {recall}')"
   ]
  },
  {
   "cell_type": "markdown",
   "metadata": {
    "papermill": {
     "duration": 0.034126,
     "end_time": "2020-12-31T23:36:43.014266",
     "exception": false,
     "start_time": "2020-12-31T23:36:42.980140",
     "status": "completed"
    },
    "tags": []
   },
   "source": [
    "> **Random Forest**"
   ]
  },
  {
   "cell_type": "code",
   "execution_count": 23,
   "metadata": {
    "execution": {
     "iopub.execute_input": "2020-12-31T23:36:43.087301Z",
     "iopub.status.busy": "2020-12-31T23:36:43.086609Z",
     "iopub.status.idle": "2020-12-31T23:36:52.500947Z",
     "shell.execute_reply": "2020-12-31T23:36:52.500340Z"
    },
    "papermill": {
     "duration": 9.451006,
     "end_time": "2020-12-31T23:36:52.501065",
     "exception": false,
     "start_time": "2020-12-31T23:36:43.050059",
     "status": "completed"
    },
    "tags": []
   },
   "outputs": [],
   "source": [
    "acc, f05, precision, recall, models = cross_validation('RandomForest', cv_application, credit, oversampling_strategy=0.5, down_sampling_strategy=0.5, transform_skewed = True)"
   ]
  },
  {
   "cell_type": "code",
   "execution_count": 24,
   "metadata": {
    "execution": {
     "iopub.execute_input": "2020-12-31T23:36:52.575487Z",
     "iopub.status.busy": "2020-12-31T23:36:52.574462Z",
     "iopub.status.idle": "2020-12-31T23:36:52.578723Z",
     "shell.execute_reply": "2020-12-31T23:36:52.578179Z"
    },
    "papermill": {
     "duration": 0.043317,
     "end_time": "2020-12-31T23:36:52.578843",
     "exception": false,
     "start_time": "2020-12-31T23:36:52.535526",
     "status": "completed"
    },
    "tags": []
   },
   "outputs": [
    {
     "name": "stdout",
     "output_type": "stream",
     "text": [
      "Acc: 0.9819989007134351\n",
      "f05: 0.6955951747502545\n",
      "Precision: 0.7610706504824151\n",
      "Recall: 0.5210997991861236\n"
     ]
    }
   ],
   "source": [
    "print(f'Acc: {acc}')\n",
    "print(f'f05: {f05}')\n",
    "print(f'Precision: {precision}')\n",
    "print(f'Recall: {recall}')"
   ]
  },
  {
   "cell_type": "markdown",
   "metadata": {
    "papermill": {
     "duration": 0.035127,
     "end_time": "2020-12-31T23:36:52.649896",
     "exception": false,
     "start_time": "2020-12-31T23:36:52.614769",
     "status": "completed"
    },
    "tags": []
   },
   "source": [
    "> **Neuronetwork**\n"
   ]
  },
  {
   "cell_type": "code",
   "execution_count": 25,
   "metadata": {
    "execution": {
     "iopub.execute_input": "2020-12-31T23:36:52.727333Z",
     "iopub.status.busy": "2020-12-31T23:36:52.726627Z",
     "iopub.status.idle": "2020-12-31T23:37:22.163309Z",
     "shell.execute_reply": "2020-12-31T23:37:22.163833Z"
    },
    "papermill": {
     "duration": 29.479054,
     "end_time": "2020-12-31T23:37:22.163987",
     "exception": false,
     "start_time": "2020-12-31T23:36:52.684933",
     "status": "completed"
    },
    "tags": []
   },
   "outputs": [
    {
     "name": "stdout",
     "output_type": "stream",
     "text": [
      "Threshold:1.0 , F05: 0.8847736625514403\n",
      "Threshold:1.0 , F05: 0.7803468208092486\n",
      "Threshold:1.0 , F05: 0.7267441860465117\n",
      "Threshold:1.0 , F05: 0.8547008547008547\n",
      "Threshold:1.0 , F05: 0.7920792079207921\n"
     ]
    }
   ],
   "source": [
    "acc, f05, precision, recall, models, nn_thresholds = cross_validation('NeuroNetwork', cv_application, credit, epochs=10, oversampling_strategy=0.5, \n",
    "                                                        down_sampling_strategy=0.5, transform_skewed = True)"
   ]
  },
  {
   "cell_type": "code",
   "execution_count": 26,
   "metadata": {
    "execution": {
     "iopub.execute_input": "2020-12-31T23:37:22.242274Z",
     "iopub.status.busy": "2020-12-31T23:37:22.241654Z",
     "iopub.status.idle": "2020-12-31T23:37:22.247185Z",
     "shell.execute_reply": "2020-12-31T23:37:22.247937Z"
    },
    "papermill": {
     "duration": 0.046633,
     "end_time": "2020-12-31T23:37:22.248140",
     "exception": false,
     "start_time": "2020-12-31T23:37:22.201507",
     "status": "completed"
    },
    "tags": []
   },
   "outputs": [
    {
     "name": "stdout",
     "output_type": "stream",
     "text": [
      "Acc: 0.9852001119462603\n",
      "f05: 0.8077289464057694\n",
      "Precision: 1.0\n",
      "Recall: 0.46824272267934236\n"
     ]
    }
   ],
   "source": [
    "print(f'Acc: {acc}')\n",
    "print(f'f05: {f05}')\n",
    "print(f'Precision: {precision}')\n",
    "print(f'Recall: {recall}')"
   ]
  },
  {
   "cell_type": "markdown",
   "metadata": {
    "papermill": {
     "duration": 0.036697,
     "end_time": "2020-12-31T23:37:22.323068",
     "exception": false,
     "start_time": "2020-12-31T23:37:22.286371",
     "status": "completed"
    },
    "tags": []
   },
   "source": [
    "# **Testing**"
   ]
  },
  {
   "cell_type": "markdown",
   "metadata": {
    "papermill": {
     "duration": 0.036426,
     "end_time": "2020-12-31T23:37:22.396051",
     "exception": false,
     "start_time": "2020-12-31T23:37:22.359625",
     "status": "completed"
    },
    "tags": []
   },
   "source": [
    "This is the best model chosen from model selection"
   ]
  },
  {
   "cell_type": "code",
   "execution_count": 27,
   "metadata": {
    "execution": {
     "iopub.execute_input": "2020-12-31T23:37:22.480043Z",
     "iopub.status.busy": "2020-12-31T23:37:22.478921Z",
     "iopub.status.idle": "2020-12-31T23:37:26.030952Z",
     "shell.execute_reply": "2020-12-31T23:37:26.030279Z"
    },
    "papermill": {
     "duration": 3.597152,
     "end_time": "2020-12-31T23:37:26.031106",
     "exception": false,
     "start_time": "2020-12-31T23:37:22.433954",
     "status": "completed"
    },
    "tags": []
   },
   "outputs": [],
   "source": [
    "application = shuffle(application)\n",
    "\n",
    "x_train = cv_application.copy()\n",
    "x_test = test_application.copy()\n",
    "\n",
    "y_train = credit[credit['ID'].isin(x_train['ID'])].copy()\n",
    "y_test = credit[credit['ID'].isin(x_test['ID'])].copy()\n",
    "\n",
    "woe_columns = ['CODE_GENDER', 'FLAG_OWN_CAR', 'FLAG_OWN_REALTY', 'NAME_INCOME_TYPE','NAME_EDUCATION_TYPE',\n",
    "               'NAME_FAMILY_STATUS','NAME_HOUSING_TYPE','FLAG_MOBIL','FLAG_WORK_PHONE','FLAG_PHONE','FLAG_EMAIL']\n",
    "\n",
    "x_train, x_test, y_train, y_test = process_datasets(x_train, x_test, y_train, y_test, oversampling_strategy=0.5, \n",
    "                                                    down_sampling_strategy=0.5, transform_skewed = True, woe_cols=woe_columns)"
   ]
  },
  {
   "cell_type": "code",
   "execution_count": 28,
   "metadata": {
    "execution": {
     "iopub.execute_input": "2020-12-31T23:37:26.109055Z",
     "iopub.status.busy": "2020-12-31T23:37:26.108123Z",
     "iopub.status.idle": "2020-12-31T23:37:26.182406Z",
     "shell.execute_reply": "2020-12-31T23:37:26.181393Z"
    },
    "papermill": {
     "duration": 0.114211,
     "end_time": "2020-12-31T23:37:26.182590",
     "exception": false,
     "start_time": "2020-12-31T23:37:26.068379",
     "status": "completed"
    },
    "tags": []
   },
   "outputs": [
    {
     "name": "stdout",
     "output_type": "stream",
     "text": [
      "Acc: 0.9833333333333333\n",
      "f05: 0.8058608058608059\n",
      "Precision: 1.0\n",
      "Recall: 0.4536082474226804\n"
     ]
    }
   ],
   "source": [
    "model = initiate_model('LogisticRegression')\n",
    "model.fit(x_train, y_train)\n",
    "\n",
    "probs = model.predict_proba(x_test)[:,1]\n",
    "\n",
    "# if using Logistic Regression or NN, use the average threshold from CV\n",
    "threshold = sum(lr_thresholds)/len(lr_thresholds)\n",
    "predictions = probs >= threshold\n",
    "\n",
    "print(f'Acc: {accuracy_score(y_test, predictions)}')\n",
    "print(f'f05: {fbeta_score(y_test, predictions, beta=0.5)}')\n",
    "print(f'Precision: {precision_score(y_test, predictions)}')\n",
    "print(f'Recall: {recall_score(y_test,predictions)}')"
   ]
  },
  {
   "cell_type": "markdown",
   "metadata": {
    "papermill": {
     "duration": 0.037366,
     "end_time": "2020-12-31T23:37:26.258009",
     "exception": false,
     "start_time": "2020-12-31T23:37:26.220643",
     "status": "completed"
    },
    "tags": []
   },
   "source": [
    "# **Conclusion**"
   ]
  },
  {
   "cell_type": "markdown",
   "metadata": {
    "papermill": {
     "duration": 0.037112,
     "end_time": "2020-12-31T23:37:26.333094",
     "exception": false,
     "start_time": "2020-12-31T23:37:26.295982",
     "status": "completed"
    },
    "tags": []
   },
   "source": [
    "* In this notebook, we performed different feature engineering, transformations, over/downsampling methods to train a model to classify good/bad credits with the provided unbalanced dataset.\n",
    "* For mode selection, we use f05 score as the main criteria to deal with this unbalanced data.\n",
    "* From the 4 models we tried to train above, Logistic Regression, KNN, and RandomForest produce similar results for cross validation. Random Forest has lower f05 score than others. For potential future needs for inferencing, we select the fitted Logistic Regression as the final model. Then, we run the Logistic Regression with the test set and it produces a similar result to its CV f05 score, which is about 0.8.\n",
    "* WOE transformation didn't show much effect on the Logistic Regression, probably because we only performed transformation on categorical variable with cardinality lower than 20, left out the ones with high cardinality and continuous variable."
   ]
  },
  {
   "cell_type": "markdown",
   "metadata": {
    "papermill": {
     "duration": 0.037957,
     "end_time": "2020-12-31T23:37:26.409563",
     "exception": false,
     "start_time": "2020-12-31T23:37:26.371606",
     "status": "completed"
    },
    "tags": []
   },
   "source": [
    "# **Acknowledgements**\n",
    "*  https://www.kaggle.com/rikdifos/eda-vintage-analysis\n",
    "*  https://www.listendata.com/2015/03/weight-of-evidence-woe-and-information.html"
   ]
  }
 ],
 "metadata": {
  "kernelspec": {
   "display_name": "Python 3",
   "language": "python",
   "name": "python3"
  },
  "language_info": {
   "codemirror_mode": {
    "name": "ipython",
    "version": 3
   },
   "file_extension": ".py",
   "mimetype": "text/x-python",
   "name": "python",
   "nbconvert_exporter": "python",
   "pygments_lexer": "ipython3",
   "version": "3.7.6"
  },
  "papermill": {
   "duration": 88.796484,
   "end_time": "2020-12-31T23:37:26.555403",
   "environment_variables": {},
   "exception": null,
   "input_path": "__notebook__.ipynb",
   "output_path": "__notebook__.ipynb",
   "parameters": {},
   "start_time": "2020-12-31T23:35:57.758919",
   "version": "2.1.0"
  }
 },
 "nbformat": 4,
 "nbformat_minor": 4
}
